{
 "cells": [
  {
   "cell_type": "code",
   "execution_count": 2,
   "metadata": {},
   "outputs": [],
   "source": [
    "import numpy as np\n",
    "import tensorflow as tf\n",
    "import matplotlib.pyplot as plt\n",
    "from PIL import Image, ImageColor\n",
    "import cv2\n",
    "from collections import Counter\n",
    "from skimage.color import rgb2lab, deltaE_cie76\n",
    "import os\n",
    "from sklearn.cluster import KMeans\n",
    "import argparse\n",
    "import imutils\n",
    "import math \n",
    "\n",
    "WESE_Path='/Users/rohitganti/Desktop/Research/Luis Research/WSe2/'\n",
    "Monolayer_Path='/Users/rohitganti/Desktop/Research/Luis Research/WSe2/Potential Monolayers'\n",
    "Samples_Path='/Users/rohitganti/Desktop/Research/Luis Research/WSe2/Usable Samples'\n",
    "\n",
    "WESE_Array=[]\n",
    "for items in os.listdir(WESE_Path):\n",
    "    if items[-4:-1]=='.jp':\n",
    "        WESE_Array.append(WESE_Path+items)\n",
    "    \n",
    "Monolayer_Array=[]\n",
    "for items in os.listdir(Monolayer_Path):\n",
    "    Monolayer_Array.append(Monolayer_Path+ items)\n",
    "\n",
    "Sample_Array=[]\n",
    "for items in os.listdir(Samples_Path):\n",
    "    Sample_Array.append(Samples_Path+items)"
   ]
  },
  {
   "cell_type": "markdown",
   "metadata": {},
   "source": [
    "# Different Image filters"
   ]
  },
  {
   "cell_type": "code",
   "execution_count": null,
   "metadata": {},
   "outputs": [],
   "source": [
    "image_number= WESE_Array[5] #'186532390_315654266676304_969368951874475388_n.png'#WESE_Array[5]"
   ]
  },
  {
   "cell_type": "code",
   "execution_count": null,
   "metadata": {},
   "outputs": [],
   "source": [
    "#Actual Image\n",
    "Image.open(image_number)"
   ]
  },
  {
   "cell_type": "code",
   "execution_count": null,
   "metadata": {},
   "outputs": [],
   "source": [
    "imag= cv2.imread(image_number,cv2.IMREAD_COLOR)\n",
    "b,g,r = cv2.split(imag)\n",
    "image=cv2.merge([r,g,b])"
   ]
  },
  {
   "cell_type": "code",
   "execution_count": null,
   "metadata": {},
   "outputs": [],
   "source": [
    "gray = cv2.cvtColor(image, cv2.COLOR_BGR2GRAY)\n",
    "img = cv2.GaussianBlur(gray,(3,3),0)\n",
    "laplacian = cv2.Laplacian(image,cv2.CV_64F)\n",
    "sobelx = cv2.Sobel(image,cv2.CV_64F,1,0,ksize=5)\n",
    "sobely = cv2.Sobel(image,cv2.CV_64F,0,1,ksize=5)"
   ]
  },
  {
   "cell_type": "code",
   "execution_count": null,
   "metadata": {
    "scrolled": false
   },
   "outputs": [],
   "source": [
    "plt.imshow(image,cmap = 'gray')\n",
    "plt.title('Original')\n",
    "plt.xticks([])\n",
    "plt.yticks([])\n",
    "plt.show()"
   ]
  },
  {
   "cell_type": "code",
   "execution_count": null,
   "metadata": {},
   "outputs": [],
   "source": [
    "plt.imshow(laplacian,cmap = 'gray')\n",
    "plt.title('Laplacian')\n",
    "plt.xticks([])\n",
    "plt.yticks([])\n",
    "plt.show()"
   ]
  },
  {
   "cell_type": "code",
   "execution_count": null,
   "metadata": {},
   "outputs": [],
   "source": [
    "plt.imshow(sobelx,cmap = 'gray')\n",
    "plt.title('Sobel X')\n",
    "plt.xticks([])\n",
    "plt.yticks([])\n",
    "plt.show()"
   ]
  },
  {
   "cell_type": "code",
   "execution_count": null,
   "metadata": {},
   "outputs": [],
   "source": [
    "plt.imshow(sobely,cmap = 'gray')\n",
    "plt.title('Sobel Y')\n",
    "plt.xticks([])\n",
    "plt.yticks([])\n",
    "plt.show()"
   ]
  },
  {
   "cell_type": "code",
   "execution_count": null,
   "metadata": {},
   "outputs": [],
   "source": [
    "def count_pixels(filename):\n",
    "    color_count = {}\n",
    "    with Image.open(filename) as image:\n",
    "        width, height = image.size\n",
    "        rgb_image = image.convert('RGB')\n",
    "        for x in range(width):\n",
    "            for y in range(height):\n",
    "                rgb = rgb_image.getpixel((x, y))\n",
    "                if rgb in color_count:\n",
    "                    color_count[rgb] += 1\n",
    "                else:\n",
    "                    color_count[rgb] = 1\n",
    "    color_array=[]\n",
    "    for colors in color_count:\n",
    "        color_array.append(colors)\n",
    "    return color_count, color_array"
   ]
  },
  {
   "cell_type": "code",
   "execution_count": null,
   "metadata": {},
   "outputs": [],
   "source": [
    "color_dict, color_array= count_pixels(WESE_Array[32])"
   ]
  },
  {
   "cell_type": "code",
   "execution_count": null,
   "metadata": {},
   "outputs": [],
   "source": [
    "color_dict= dict(color_dict)"
   ]
  },
  {
   "cell_type": "code",
   "execution_count": null,
   "metadata": {},
   "outputs": [],
   "source": [
    "def get_max(color_dict,color_array):\n",
    "    \"\"\"Returns the color value with the most number of pixes or the set background \"\"\"\n",
    "    new_max= color_dict[color_array[0]]\n",
    "    for colors in color_dict:\n",
    "        if int(color_dict[colors])> int(new_max):\n",
    "            new_max= color_dict[colors]\n",
    "            color= colors\n",
    "    return color\n",
    "\n",
    "def average_tuple(nums):\n",
    "    result = [sum(x) / len(x) for x in zip(*nums)]\n",
    "    tup_down= (math.floor(result[0]), math.floor(result[1]), math.floor(result[2]))\n",
    "    tup_up= (math.ceil(result[0]), math.ceil(result[1]), math.ceil(result[2]))\n",
    "    return tup_down, tup_up\n",
    "\n",
    "def get_possible_backgrounds(color_dict, color_array):\n",
    "    \"\"\"Returns the five backgrounds\"\"\"\n",
    "    new_dict= color_dict.copy()\n",
    "    first_back= get_max(new_dict, color_array)\n",
    "    new_dict.pop(first_back)\n",
    "    second_back= get_max(new_dict, color_array)\n",
    "    new_dict.pop(second_back)\n",
    "    third_back= get_max(new_dict, color_array)\n",
    "    new_dict.pop(third_back)\n",
    "    fourth_back= get_max(new_dict,color_array)\n",
    "    new_dict.pop(fourth_back)\n",
    "    fifth_back= get_max(new_dict, color_array)\n",
    "    new_dict.pop(fifth_back)\n",
    "    all_tuples= first_back, second_back, third_back, fourth_back, fifth_back\n",
    "    #total_similar_pixels= color_dict[first_back]+color_dict[second_back]+color_dict[third_back]+color_dict[fourth_back]+color_dict[fifth_back]\n",
    "    return first_back,second_back,third_back,fourth_back,fifth_back"
   ]
  },
  {
   "cell_type": "code",
   "execution_count": null,
   "metadata": {},
   "outputs": [],
   "source": [
    "get_possible_backgrounds(color_dict,color_array)"
   ]
  },
  {
   "cell_type": "code",
   "execution_count": null,
   "metadata": {},
   "outputs": [],
   "source": [
    "color_dict[(39,30,13)]"
   ]
  },
  {
   "cell_type": "code",
   "execution_count": null,
   "metadata": {},
   "outputs": [],
   "source": [
    "def findNearest(rgb):\n",
    "    a = []\n",
    "    for i in range(len(rgbValues)):\n",
    "        d = ((rgbValues[i][0]-rgb[0])*0.3)**2 + ((rgbValues[i][1]-rgb[1])*0.59)**2 + ((rgbValues[i][2]-rgb[2])*0.11)**2\n",
    "        a.append([d,i])\n",
    "    list.sort(a)\n",
    "    return rgbValues[a[0][1]]"
   ]
  },
  {
   "cell_type": "code",
   "execution_count": null,
   "metadata": {},
   "outputs": [],
   "source": [
    "\"\"\"\n",
    "from colorsys import rgb_to_hsv\n",
    "colors=dict ((\n",
    "((196, 2, 51), \"red\"),((255, 165, 0), \"orange\"),((255, 205, 0), \"yellow\"),((0, 128, 0), \"green\"),((0, 0, 255), \"blue\"),((127, 0, 255), \"violet\"),((0, 0, 0), \"black\"),((255, 255, 255), \"white\"),))\n",
    "\n",
    "def to_hsv (color):\n",
    "    \"\" \"converts color tuples to floats and then to hsv\" \"\"\n",
    "    return rgb_to_hsv (* [x/255.0 for x in color]) #rgb_to_hsv wants floats!\n",
    "\n",
    "def color_dist (c1, c2):\n",
    "    \"\" \"returns the squared euklidian distance between two color vectors in hsv space\" \"\"\n",
    "    return sum ((a-b) ** 2 for a, b in zip (to_hsv (c1), to_hsv (c2)))\n",
    "\n",
    "def min_color_diff (color_to_match, colors):\n",
    "    \"\" \"returns the` (distance, color_name) `with the minimal distance to` colors` \"\" \"\n",
    "    return min ((color_dist (color_to_match, test), colors[test]) #(distance to `test` color, color name)\n",
    "for test in colors)\n",
    "color_to_match=(9,8,6)\n",
    "print(min_color_diff (color_to_match, colors))\n",
    "\"\"\""
   ]
  },
  {
   "cell_type": "code",
   "execution_count": null,
   "metadata": {},
   "outputs": [],
   "source": [
    "from colorsys import rgb_to_hsv\n",
    "colors=dict((((196, 2, 51), \"red\"),((255, 165, 0), \"orange\"),((255, 205, 0), \"yellow\"),((0, 128, 0), \"green\"),((0, 0, 255), \"blue\"),((127, 0, 255), \"violet\"),((0, 0, 0), \"black\"),((255, 255, 255), \"white\"),))\n",
    "\n",
    "def to_hsv(color):\n",
    "    \"\"\"converts color tuples to floats and then to hsv\"\"\"\n",
    "    return rgb_to_hsv(*[x/255.0 for x in color]) \n",
    "\n",
    "def color_dist(c1, c2):\n",
    "    \"\"\"returns the squared euklidian distance between two color vectors in hsv space\"\"\"\n",
    "    return sum((a-b)**2 for a,b in zip(to_hsv(c1), to_hsv(c2)))\n",
    "\n",
    "def min_color_diff(color_to_match, colors):\n",
    "    \"\"\"returns the (distance, color_name) `with the minimal distance to colors\"\"\"\n",
    "    return min((color_dist(color_to_match, test), test) for test in color_dict if color_dict[test]>5000)\n",
    "\n",
    "color_to_match = (36,29,13)\n",
    "color_dict.pop(color_to_match)\n",
    "print(min_color_diff(color_to_match, color_dict))"
   ]
  },
  {
   "cell_type": "code",
   "execution_count": null,
   "metadata": {},
   "outputs": [],
   "source": [
    "im= cv2.imread(image_number)\n",
    "im"
   ]
  },
  {
   "cell_type": "code",
   "execution_count": null,
   "metadata": {
    "scrolled": true
   },
   "outputs": [],
   "source": []
  },
  {
   "cell_type": "code",
   "execution_count": null,
   "metadata": {},
   "outputs": [],
   "source": [
    "def cont_plot(array3d):\n",
    "    x = st.itemfreq(array3d[:,0])[:,0]\n",
    "    y = st.itemfreq(array3d[:,1])[:,0]\n",
    "    X,Y = np.meshgrid(x,y)\n",
    "    Z = np.zeros([len(y),len(x)], float)\n",
    "    for i in range(len(X)):\n",
    "        for j in range(len(X[0])):\n",
    "            for k in array3d:\n",
    "                if X[i,j]== k[0]:\n",
    "                    Z[i,j]= k[2]\n",
    "    Z= np.log(Z)\n",
    "    plt.figure()\n",
    "    CS = plt.contour(X,Y,Z)\n",
    "    plt.clabel(CS, inline=1, fontsize=10)\n",
    "    plt.axis([15000,29000, 3.5,4.5])\n",
    "    plt.xlabel('xlabel')\n",
    "    plt.ylabel('ylabel')\n",
    "    plt.zlabel('zlabel')\n",
    "    plt.title('Title')\n",
    "    plt.clf()\n",
    "    plt.show()"
   ]
  },
  {
   "cell_type": "code",
   "execution_count": null,
   "metadata": {
    "scrolled": false
   },
   "outputs": [],
   "source": [
    "from mpl_toolkits.mplot3d import Axes3D\n",
    "from matplotlib import pylab as pl\n",
    "from PIL import Image\n",
    "import numpy as np\n",
    "import pylab\n",
    "\n",
    "img = Image.open(image_number).convert('L')\n",
    "z   = np.asarray(img)\n",
    "mydata = z[::1,::1]\n",
    "fig = pl.figure(facecolor='w')\n",
    "ax1 = fig.add_subplot(1,2,1)\n",
    "im = ax1.imshow(mydata,interpolation='nearest',cmap=pl.cm.jet)\n",
    "ax1.set_title('2D')\n",
    "pl.show()"
   ]
  },
  {
   "cell_type": "code",
   "execution_count": null,
   "metadata": {},
   "outputs": [],
   "source": []
  },
  {
   "cell_type": "code",
   "execution_count": null,
   "metadata": {},
   "outputs": [],
   "source": [
    "ab= Image.open(image_number)\n",
    "ab"
   ]
  },
  {
   "cell_type": "code",
   "execution_count": null,
   "metadata": {},
   "outputs": [],
   "source": [
    "from expects import (\n",
    "    be_true,\n",
    "    equal,\n",
    "    expect,\n",
    ")"
   ]
  },
  {
   "cell_type": "code",
   "execution_count": null,
   "metadata": {},
   "outputs": [],
   "source": [
    "def image_to_vector(image: np.ndarray) -> np.ndarray:\n",
    "    length, height, depth = image.shape\n",
    "    return image.reshape((length * height * depth, 1))"
   ]
  },
  {
   "cell_type": "code",
   "execution_count": null,
   "metadata": {},
   "outputs": [],
   "source": [
    "expected=np.asarray(Image.open(image_number))\n",
    "actual = image_to_vector(expected)"
   ]
  },
  {
   "cell_type": "code",
   "execution_count": null,
   "metadata": {},
   "outputs": [],
   "source": [
    "print(\"vector: {}\".format(actual))\n",
    "length, height, depth = image.shape\n",
    "expected_shape = (length * height * depth, 1)\n",
    "expect(actual.shape).to(equal(expected_shape))\n",
    "#expect(all(np.abs(actual - expected) < 0.1**6)).to(be_true)"
   ]
  },
  {
   "cell_type": "markdown",
   "metadata": {},
   "source": [
    "## To do build a single layer identifier for the any substrate backround based on the 2D contour heat map technique"
   ]
  },
  {
   "cell_type": "code",
   "execution_count": null,
   "metadata": {},
   "outputs": [],
   "source": []
  },
  {
   "cell_type": "code",
   "execution_count": null,
   "metadata": {},
   "outputs": [],
   "source": []
  },
  {
   "cell_type": "markdown",
   "metadata": {},
   "source": [
    "Next"
   ]
  },
  {
   "cell_type": "code",
   "execution_count": null,
   "metadata": {},
   "outputs": [],
   "source": []
  },
  {
   "cell_type": "code",
   "execution_count": null,
   "metadata": {},
   "outputs": [],
   "source": []
  },
  {
   "cell_type": "code",
   "execution_count": null,
   "metadata": {},
   "outputs": [],
   "source": []
  },
  {
   "cell_type": "code",
   "execution_count": null,
   "metadata": {},
   "outputs": [],
   "source": []
  }
 ],
 "metadata": {
  "interpreter": {
   "hash": "ee98b0b43401b3eabfb0a06d0400e2fbe64e387dd5efc6837f949108675997c2"
  },
  "kernelspec": {
   "display_name": "Python 3",
   "language": "python",
   "name": "python3"
  },
  "language_info": {
   "codemirror_mode": {
    "name": "ipython",
    "version": 3
   },
   "file_extension": ".py",
   "mimetype": "text/x-python",
   "name": "python",
   "nbconvert_exporter": "python",
   "pygments_lexer": "ipython3",
   "version": "3.8.10"
  }
 },
 "nbformat": 4,
 "nbformat_minor": 4
}
